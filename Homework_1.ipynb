{
 "cells": [
  {
   "attachments": {},
   "cell_type": "markdown",
   "metadata": {},
   "source": [
    "#### Условие 2:\n",
    "##### На складе лежат разные фрукты в разном количестве.\n",
    "##### Нужно написать функцию, которая на вход принимает любое количество названий фруктов и их количество, а возвращает общее количество фруктов на складе"
   ]
  },
  {
   "cell_type": "code",
   "execution_count": 26,
   "metadata": {},
   "outputs": [],
   "source": [
    "def count_fruits(**fruits):\n",
    "    total = 0\n",
    "    for fruit, quantity in fruits.items():\n",
    "        total += quantity\n",
    "    return total"
   ]
  },
  {
   "cell_type": "code",
   "execution_count": 27,
   "metadata": {},
   "outputs": [
    {
     "data": {
      "text/plain": [
       "35"
      ]
     },
     "execution_count": 27,
     "metadata": {},
     "output_type": "execute_result"
    }
   ],
   "source": [
    "count_fruits(apples=10, oranges=5, bananas=20)\n"
   ]
  },
  {
   "attachments": {},
   "cell_type": "markdown",
   "metadata": {},
   "source": [
    "#### Условие 3:\n",
    "##### Дан список с затратами на рекламу. Но в данных есть ошибки, некоторые затраты имеют отрицательную величину. Удалите такие значения из списка и посчитайте суммарные затраты\n",
    "##### [100, 125, -90, 345, 655, -1, 0, 200]\n",
    "##### Используйте list comprehensions"
   ]
  },
  {
   "cell_type": "code",
   "execution_count": 25,
   "metadata": {},
   "outputs": [
    {
     "name": "stdout",
     "output_type": "stream",
     "text": [
      "Суммарные затраты на рекламу: 1425\n"
     ]
    }
   ],
   "source": [
    "ad_costs = [100, 125, -90, 345, 655, -1, 0, 200]\n",
    "\n",
    "# Удаление отрицательных значений с помощью list comprehensions\n",
    "ad_costs = [cost for cost in ad_costs if cost >= 0]\n",
    "\n",
    "# Подсчет суммарных затрат\n",
    "total_costs = sum(ad_costs)\n",
    "\n",
    "print(f\"Суммарные затраты на рекламу: {total_costs}\")\n"
   ]
  },
  {
   "attachments": {},
   "cell_type": "markdown",
   "metadata": {},
   "source": [
    "#### Условие 4.1:\n",
    "##### Даны два списка.\n",
    "##### Дата покупки\n",
    "##### ['2021-09-14', '2021-12-15', '2021-09-08', '2021-12-05', '2021-10-09', '2021-09-30', '2021-12-22', '2021-11-29', '2021-12-24', '2021-11-26', '2021-10-27', '2021-12-18', '2021-11-09', '2021-11-23', '2021-09-27', '2021-10-02', '2021-12-27', '2021-09-20', '2021-12-13', '2021-11-01', '2021-11-09', '2021-12-06', '2021-12-08', '2021-10-09', '2021-10-31', '2021-09-30', '2021-11-09', '2021-12-13', '2021-10-26', '2021-12-09']\n",
    "##### Суммы покупок по датам\n",
    "##### [1270, 8413, 9028, 3703, 5739, 4095, 295, 4944, 5723, 3701, 4471, 651, 7037, 4274, 6275, 4988, 6930, 2971, 6592, 2004, 2822, 519, 3406, 2732, 5015, 2008, 316, 6333, 5700, 2887]\n",
    "#### 4.1 Найдите, какая выручка у компании в ноябре\n",
    "##### Используйте list comprehensions\n",
    "#### 4.2 Найдите выручку компании в зависимости от месяца\n",
    "##### Для этого напишите функцию, которая на вход принимает список с датами и список с выручкой, а на выходе словарь, где ключи - это месяцы, а значения - это выручка.\n",
    "##### Используйте аннотирование типов"
   ]
  },
  {
   "cell_type": "code",
   "execution_count": 24,
   "metadata": {},
   "outputs": [
    {
     "name": "stdout",
     "output_type": "stream",
     "text": [
      "Выручка компании в ноябре: 25098\n"
     ]
    }
   ],
   "source": [
    "purchase_dates = ['2021-09-14', '2021-12-15', '2021-09-08', '2021-12-05', '2021-10-09', '2021-09-30', '2021-12-22', '2021-11-29', '2021-12-24', '2021-11-26', '2021-10-27', '2021-12-18', '2021-11-09', '2021-11-23', '2021-09-27', '2021-10-02', '2021-12-27', '2021-09-20', '2021-12-13', '2021-11-01', '2021-11-09', '2021-12-06', '2021-12-08', '2021-10-09', '2021-10-31', '2021-09-30', '2021-11-09', '2021-12-13', '2021-10-26', '2021-12-09']\n",
    "purchase_amounts = [1270, 8413, 9028, 3703, 5739, 4095, 295, 4944, 5723, 3701, 4471, 651, 7037, 4274, 6275, 4988, 6930, 2971, 6592, 2004, 2822, 519, 3406, 2732, 5015, 2008, 316, 6333, 5700, 2887]\n",
    "\n",
    "# Найдем выручку компании в ноябре\n",
    "november_purchases = [purchase_amounts[i] for i in range(len(purchase_dates)) if purchase_dates[i][5:7] == \"11\"]\n",
    "november_revenue = sum(november_purchases)\n",
    "\n",
    "print(f\"Выручка компании в ноябре: {november_revenue}\")\n"
   ]
  },
  {
   "cell_type": "code",
   "execution_count": 21,
   "metadata": {},
   "outputs": [],
   "source": [
    "from typing import Dict, List\n",
    "from datetime import datetime\n",
    "\n",
    "# Аннотации типов:\n",
    "\n",
    "# List[str] - список строк с датами покупок\n",
    "# List[int] - список сумм покупок по датам\n",
    "# Dict[str, int] - словарь, где ключи - это месяцы в виде строк, а значения - это выручка в виде целых чисел.\n",
    "\n",
    "def revenue_by_month(dates: List[str], revenue: List[int]) -> Dict[str, int]:\n",
    "    result = {}\n",
    "    for i in range(len(dates)):\n",
    "        month = datetime.strptime(dates[i], '%Y-%m-%d').strftime('%m')  # Преобразовываем строку с датой в объект datetime и получаем номер месяца\n",
    "        if month not in result: # Если месяц еще не встречался, то добавляем его в словарь\n",
    "            result[month] = 0 \n",
    "        result[month] += revenue[i]  # Добавляем выручку за этот день в общую выручку месяца\n",
    "    return result\n"
   ]
  },
  {
   "cell_type": "code",
   "execution_count": 23,
   "metadata": {},
   "outputs": [
    {
     "name": "stdout",
     "output_type": "stream",
     "text": [
      "{'09': 25647, '12': 45452, '10': 28645, '11': 25098}\n"
     ]
    }
   ],
   "source": [
    "revenue_by_month_dict = revenue_by_month(purchase_dates, purchase_amounts)\n",
    "print(revenue_by_month_dict)\n"
   ]
  }
 ],
 "metadata": {
  "kernelspec": {
   "display_name": "Python 3",
   "language": "python",
   "name": "python3"
  },
  "language_info": {
   "codemirror_mode": {
    "name": "ipython",
    "version": 3
   },
   "file_extension": ".py",
   "mimetype": "text/x-python",
   "name": "python",
   "nbconvert_exporter": "python",
   "pygments_lexer": "ipython3",
   "version": "3.10.7"
  },
  "orig_nbformat": 4
 },
 "nbformat": 4,
 "nbformat_minor": 2
}
